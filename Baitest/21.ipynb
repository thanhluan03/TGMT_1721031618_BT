{
 "cells": [
  {
   "cell_type": "code",
   "execution_count": 9,
   "id": "43d5c386-5667-4e6e-9bc0-6b9825390085",
   "metadata": {},
   "outputs": [],
   "source": [
    "import cv2"
   ]
  },
  {
   "cell_type": "code",
   "execution_count": 11,
   "id": "c260f713-5166-4662-b2c7-7124867c997b",
   "metadata": {},
   "outputs": [],
   "source": [
    "# doc video tu file\n",
    "my_video = cv2.VideoCapture('./data/Video_Anime.mp4')"
   ]
  },
  {
   "cell_type": "code",
   "execution_count": 13,
   "id": "d60c8c4a-75f3-4a98-9cd7-a35bca3e4ed7",
   "metadata": {},
   "outputs": [],
   "source": [
    "# create cua so hien thi\n",
    "cv2.namedWindow('Video Player', cv2.WINDOW_NORMAL)"
   ]
  },
  {
   "cell_type": "code",
   "execution_count": 15,
   "id": "cd016179-a277-4c07-aee8-b61a5546af9f",
   "metadata": {},
   "outputs": [],
   "source": [
    "# show tung khung anh\n",
    "while True:\n",
    "    # read 1 frame\n",
    "    ret, frame = my_video.read()\n",
    "    \n",
    "    # thoat khi khong the doc duoc frame\n",
    "    if not ret:\n",
    "        break\n",
    "    \n",
    "    # show\n",
    "    cv2.imshow('Video Player', frame)\n",
    "    \n",
    "    if(cv2.waitKey(10)==ord('q')):\n",
    "        break"
   ]
  },
  {
   "cell_type": "code",
   "execution_count": 20,
   "id": "7c2d7c8e-9155-4144-b59b-5f460dc8d00d",
   "metadata": {},
   "outputs": [],
   "source": [
    "# huy bo player\n",
    "my_video.release\n",
    "cv2.destroyAllWindows()"
   ]
  }
 ],
 "metadata": {
  "kernelspec": {
   "display_name": "Python 3 (ipykernel)",
   "language": "python",
   "name": "python3"
  },
  "language_info": {
   "codemirror_mode": {
    "name": "ipython",
    "version": 3
   },
   "file_extension": ".py",
   "mimetype": "text/x-python",
   "name": "python",
   "nbconvert_exporter": "python",
   "pygments_lexer": "ipython3",
   "version": "3.12.4"
  }
 },
 "nbformat": 4,
 "nbformat_minor": 5
}
