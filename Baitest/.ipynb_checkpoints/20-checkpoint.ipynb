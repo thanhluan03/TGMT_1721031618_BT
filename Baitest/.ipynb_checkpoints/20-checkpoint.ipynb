{
 "cells": [
  {
   "cell_type": "code",
   "execution_count": 4,
   "id": "1f51beb9-f9dd-4ff2-b031-71849d82778b",
   "metadata": {},
   "outputs": [],
   "source": [
    "import cv2\n",
    "import numpy as np"
   ]
  },
  {
   "cell_type": "code",
   "execution_count": 6,
   "id": "6040ca1d-49cd-4b0d-a57e-c5576a62413a",
   "metadata": {},
   "outputs": [],
   "source": [
    "def display(title, img):\n",
    "    cv2.imshow(title, img)\n",
    "    # wait\n",
    "    cv2.waitKey(0)\n",
    "    # close window\n",
    "    cv2.destroyWindow(title)"
   ]
  },
  {
   "cell_type": "code",
   "execution_count": 8,
   "id": "93f2351b-5fe4-4a26-8533-13ec848a932d",
   "metadata": {},
   "outputs": [],
   "source": [
    "# create anh\n",
    "img = np.zeros((400,400,3), dtype=np.uint8)\n",
    "display('Image', img)"
   ]
  },
  {
   "cell_type": "code",
   "execution_count": 10,
   "id": "8d461a53-dad7-43bf-8654-251bde426e14",
   "metadata": {},
   "outputs": [],
   "source": [
    "# ve duong thang\n",
    "cv2.line(img, (50, 50) , (350, 50), (0,0,255), 2)\n",
    "display('Image', img)"
   ]
  },
  {
   "cell_type": "code",
   "execution_count": 13,
   "id": "7e0e75b1-5115-4a0f-84f4-9d00a025794e",
   "metadata": {},
   "outputs": [],
   "source": [
    "# ve hinh tron\n",
    "cv2.circle(img, (100,100), 50, (0, 255, 0), -1)\n",
    "display('Image', img)"
   ]
  },
  {
   "cell_type": "code",
   "execution_count": 16,
   "id": "8e17326c-c073-4af6-a33d-c88329ca557c",
   "metadata": {},
   "outputs": [],
   "source": [
    "# ve hinh chu nhat\n",
    "cv2.rectangle(img, (100,100),(300,300), (255, 0, 0), -1)\n",
    "display('Image', img)"
   ]
  },
  {
   "cell_type": "code",
   "execution_count": 18,
   "id": "071b01d9-7c49-491c-8b77-88231a1a50fb",
   "metadata": {},
   "outputs": [],
   "source": [
    "# ghi text tren anh\n",
    "content = 'Truong Thanh Luan'\n",
    "font = cv2.FONT_HERSHEY_SIMPLEX\n",
    "cv2.putText(img, content, (10, 380), font, 0.6, (255, 255, 255), 2)\n",
    "display('Image', img)"
   ]
  }
 ],
 "metadata": {
  "kernelspec": {
   "display_name": "Python 3 (ipykernel)",
   "language": "python",
   "name": "python3"
  },
  "language_info": {
   "codemirror_mode": {
    "name": "ipython",
    "version": 3
   },
   "file_extension": ".py",
   "mimetype": "text/x-python",
   "name": "python",
   "nbconvert_exporter": "python",
   "pygments_lexer": "ipython3",
   "version": "3.12.4"
  }
 },
 "nbformat": 4,
 "nbformat_minor": 5
}
