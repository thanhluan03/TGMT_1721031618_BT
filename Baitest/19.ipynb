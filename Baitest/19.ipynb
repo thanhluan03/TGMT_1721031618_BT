{
 "cells": [
  {
   "cell_type": "code",
   "execution_count": 19,
   "id": "609bc81b-36c1-43e4-9c84-5f6ff409e7e4",
   "metadata": {},
   "outputs": [
    {
     "name": "stdout",
     "output_type": "stream",
     "text": [
      "Defaulting to user installation because normal site-packages is not writeable\n",
      "Requirement already satisfied: opencv-python in c:\\users\\asus\\appdata\\roaming\\python\\python312\\site-packages (4.10.0.84)\n",
      "Requirement already satisfied: numpy>=1.21.2 in c:\\programdata\\anaconda3\\lib\\site-packages (from opencv-python) (1.26.4)\n"
     ]
    }
   ],
   "source": [
    "!pip install opencv-python"
   ]
  },
  {
   "cell_type": "code",
   "execution_count": 21,
   "id": "7782188f-49da-44f3-9857-307b8b8d09af",
   "metadata": {},
   "outputs": [],
   "source": [
    "def display(title, img):\n",
    "    cv2.imshow(title, img)\n",
    "    # Chờ một khoảng thời gian\n",
    "    cv2.waitKey(0)\n",
    "    # Đóng window\n",
    "    cv2.destroyWindow(title)"
   ]
  },
  {
   "cell_type": "code",
   "execution_count": 23,
   "id": "40eacc8d-5ef6-4d9f-91fc-4ea274053a84",
   "metadata": {},
   "outputs": [],
   "source": [
    "#import thu vien\n",
    "import cv2"
   ]
  },
  {
   "cell_type": "code",
   "execution_count": 54,
   "id": "758c4537-096a-4ac8-bea7-ad97ad32cc7d",
   "metadata": {
    "scrolled": true
   },
   "outputs": [
    {
     "name": "stdout",
     "output_type": "stream",
     "text": [
      "[[[  3  16  24]\n",
      "  [  7  24  33]\n",
      "  [  7  19  31]\n",
      "  ...\n",
      "  [ 73  79  86]\n",
      "  [ 75  83  90]\n",
      "  [ 76  84  91]]\n",
      "\n",
      " [[ 14  26  38]\n",
      "  [  4  21  34]\n",
      "  [  0  25  37]\n",
      "  ...\n",
      "  [ 71  78  87]\n",
      "  [ 73  80  89]\n",
      "  [ 69  78  87]]\n",
      "\n",
      " [[ 19  42  58]\n",
      "  [  0  23  39]\n",
      "  [  1  27  43]\n",
      "  ...\n",
      "  [ 65  73  86]\n",
      "  [ 68  77  87]\n",
      "  [ 66  75  85]]\n",
      "\n",
      " ...\n",
      "\n",
      " [[145 152 167]\n",
      "  [148 157 166]\n",
      "  [131 143 147]\n",
      "  ...\n",
      "  [  3   4   2]\n",
      "  [  2   3   1]\n",
      "  [  2   2   2]]\n",
      "\n",
      " [[147 153 172]\n",
      "  [122 130 143]\n",
      "  [111 123 129]\n",
      "  ...\n",
      "  [  3   4   0]\n",
      "  [  2   3   0]\n",
      "  [  3   4   2]]\n",
      "\n",
      " [[132 139 154]\n",
      "  [113 121 134]\n",
      "  [110 117 132]\n",
      "  ...\n",
      "  [  4   6   0]\n",
      "  [  3   4   0]\n",
      "  [  4   5   1]]]\n"
     ]
    }
   ],
   "source": [
    "# doc 1 anh (nhan TAB de nhin autocomplete)\n",
    "path= './data/anh12.jpg'\n",
    "img = cv2.imread(path)\n",
    "# in thong tin cua anh\n",
    "print(img)"
   ]
  },
  {
   "cell_type": "code",
   "execution_count": 27,
   "id": "1151f098-20c6-4c04-ac08-7d7834514747",
   "metadata": {},
   "outputs": [
    {
     "name": "stdout",
     "output_type": "stream",
     "text": [
      "(540, 960, 3)\n",
      "540\n",
      "960\n",
      "3\n"
     ]
    }
   ],
   "source": [
    "# lay kich thuoc\n",
    "print(img.shape)\n",
    "x, y, z = img.shape\n",
    "print(x)\n",
    "print(y)\n",
    "print(z)"
   ]
  },
  {
   "cell_type": "code",
   "execution_count": 56,
   "id": "82fe4782-1a97-4845-b448-201ef8f9fc4b",
   "metadata": {},
   "outputs": [],
   "source": [
    "# hien thi\n",
    "cv2.imshow('Luffy', img)\n",
    "# wait\n",
    "cv2.waitKey(10000)\n",
    "# close window\n",
    "cv2.destroyWindow('Luffy')"
   ]
  },
  {
   "cell_type": "code",
   "execution_count": 58,
   "id": "50a424fb-94d4-4db1-90f8-2022c5a9c1f4",
   "metadata": {},
   "outputs": [],
   "source": [
    "# tach mau\n",
    "b, g, r = cv2.split(img)\n",
    "cv2.imshow('Luffy', img)\n",
    "cv2.imshow('Red', r)\n",
    "cv2.imshow('Green', g)\n",
    "cv2.imshow('Blue', b)\n",
    "\n",
    "# wait\n",
    "cv2.waitKey(0)\n",
    "# close window\n",
    "cv2.destroyAllWindows()\n"
   ]
  },
  {
   "cell_type": "code",
   "execution_count": 60,
   "id": "f0e4a25e-f8f9-4cf9-afd2-ba3abe806790",
   "metadata": {},
   "outputs": [],
   "source": [
    "gray_img = cv2.cvtColor(img, cv2.COLOR_BGR2GRAY)\n",
    "img2 = cv2.cvtColor(img, cv2.COLOR_BGR2RGB)\n",
    "cv2.imshow('Luffy', img)\n",
    "cv2.imshow('Luffy_gray', gray_img)\n",
    "cv2.imshow('Luffy_green', img2)\n",
    "# wait\n",
    "cv2.waitKey(0)\n",
    "# close window\n",
    "cv2.destroyAllWindows()"
   ]
  },
  {
   "cell_type": "code",
   "execution_count": 70,
   "id": "5d796bb5-ad39-4098-a0b9-9c30c21a8402",
   "metadata": {},
   "outputs": [],
   "source": [
    "# thay doi thong so cua diem anh\n",
    "height, width, z = img.shape\n",
    "quater_h = height/2\n",
    "quater_w = width/2\n",
    "\n",
    "# geen color\n",
    "green_color = (0,255,0)\n",
    "\n",
    "# copy anh\n",
    "img2 = img.copy()\n",
    "\n",
    "# thay doi cua goc 1/4 ben trai tren\n",
    "\n",
    "for y in range(int(quater_h)):\n",
    "    for x in range(int(quater_w)):\n",
    "        img2[y, x] = green_color\n",
    "# show\n",
    "display('Luffy', img)\n",
    "display('Luffy-2', img2)"
   ]
  }
 ],
 "metadata": {
  "kernelspec": {
   "display_name": "Python 3 (ipykernel)",
   "language": "python",
   "name": "python3"
  },
  "language_info": {
   "codemirror_mode": {
    "name": "ipython",
    "version": 3
   },
   "file_extension": ".py",
   "mimetype": "text/x-python",
   "name": "python",
   "nbconvert_exporter": "python",
   "pygments_lexer": "ipython3",
   "version": "3.12.4"
  }
 },
 "nbformat": 4,
 "nbformat_minor": 5
}
