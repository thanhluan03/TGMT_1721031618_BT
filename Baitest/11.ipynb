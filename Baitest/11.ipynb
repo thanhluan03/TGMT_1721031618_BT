{
 "cells": [
  {
   "cell_type": "code",
   "execution_count": 16,
   "id": "37516a4e-c76c-4481-834a-1fc5b7bfbb01",
   "metadata": {},
   "outputs": [
    {
     "name": "stdout",
     "output_type": "stream",
     "text": [
      "[1 2 3]\n",
      "2\n"
     ]
    }
   ],
   "source": [
    "import numpy as np \n",
    "\n",
    "# tao mang \n",
    "a = np.array([1,2,3])\n",
    "\n",
    "#in mang \n",
    "print(a)\n",
    "\n",
    "# in ra 1 phan tu\n",
    "element = a[1]\n",
    "print(element)"
   ]
  },
  {
   "cell_type": "code",
   "execution_count": 24,
   "id": "035e65fa-d52b-4f2c-91d6-5292bf4d3289",
   "metadata": {},
   "outputs": [
    {
     "name": "stdout",
     "output_type": "stream",
     "text": [
      "Matrix: \n",
      "[[1 2 3]\n",
      " [4 5 6]\n",
      " [7 8 9]]\n",
      "6\n"
     ]
    }
   ],
   "source": [
    "# tao mang 2 chieu\n",
    "matrix = np.array([[1, 2, 3], [4, 5, 6], [7, 8, 9]])\n",
    "print(\"Matrix: \")\n",
    "print(matrix)\n",
    "\n",
    "#in mot phan tu\n",
    "element = matrix[1, 2]\n",
    "print(element)"
   ]
  },
  {
   "cell_type": "code",
   "execution_count": 44,
   "id": "751c9aaa-bafc-4af1-8089-4ac5583bec60",
   "metadata": {},
   "outputs": [
    {
     "name": "stdout",
     "output_type": "stream",
     "text": [
      "[0. 0. 0. 0. 0.]\n",
      "[1. 1. 1. 1. 1.]\n",
      "[1. 1. 1. 1. 1.]\n",
      "[ 0  1  2  3  4  5  6  7  8  9 10 11 12 13 14 15 16 17 18 19 20 21 22 23\n",
      " 24 25 26 27 28 29 30 31 32 33 34 35 36 37 38 39 40 41 42 43 44 45 46 47\n",
      " 48 49 50 51 52 53 54 55 56 57 58 59 60 61 62 63 64 65 66 67 68 69 70 71\n",
      " 72 73 74 75 76 77 78 79 80 81 82 83 84 85 86 87 88 89 90 91 92 93 94 95\n",
      " 96 97 98 99]\n",
      "[ 0.   2.5  5.   7.5 10. ]\n"
     ]
    },
    {
     "data": {
      "text/plain": [
       "array([1, 1, 1, 1, 1], dtype=int64)"
      ]
     },
     "execution_count": 44,
     "metadata": {},
     "output_type": "execute_result"
    }
   ],
   "source": [
    "#tao mang toan so 0\n",
    "a = np.zeros(5)\n",
    "print(a)\n",
    "#tao mang toan so 1\n",
    "a = np.ones(5)\n",
    "print(a)\n",
    "#tao mang\n",
    "a = np.empty(5)\n",
    "print(a)\n",
    "#tao mang tu 0 den 100\n",
    "a = np.arange(100)\n",
    "print(a)\n",
    "# tao mang gom cac phan tu voi khoang cach deu nhau\n",
    "a = np.linspace(0, 10, num=5)\n",
    "print(a)\n",
    "#xac dinh cac kieu du lieu\n",
    "a = np.ones(5, dtype=np.int64)\n",
    "a"
   ]
  },
  {
   "cell_type": "code",
   "execution_count": 50,
   "id": "48d88257-7286-493a-bdbb-278749f38885",
   "metadata": {},
   "outputs": [
    {
     "name": "stdout",
     "output_type": "stream",
     "text": [
      "[3 1 2 4 5]\n",
      "[1 2 3 4 5]\n",
      "[5 4 3 2 1]\n",
      "[  5   4   3   2   1 100]\n",
      "[  5   4   3   1 100]\n"
     ]
    }
   ],
   "source": [
    "# them , xoa, sap xep mang \n",
    "# tao mang ban dau\n",
    "arr = np.array([3, 1, 2, 4, 5])\n",
    "print(arr)\n",
    "# sap xep\n",
    "arr = np.sort(arr)\n",
    "print(arr)\n",
    "# sap xep nguoc\n",
    "arr = np.sort(arr)[::-1]\n",
    "print(arr)\n",
    "# them phan tu vao mang\n",
    "arr = np.append(arr, 100)\n",
    "print(arr)\n",
    "# xoa vi tri bat ki trong mang\n",
    "arr = np.delete(arr, 3)\n",
    "print(arr)"
   ]
  },
  {
   "cell_type": "code",
   "execution_count": 70,
   "id": "875f001c-43ec-402b-bece-b9ab426d17d1",
   "metadata": {},
   "outputs": [
    {
     "name": "stdout",
     "output_type": "stream",
     "text": [
      "[[1 2 3]\n",
      " [4 6 8]\n",
      " [5 7 9]]\n",
      "[[3 1 2]\n",
      " [4 6 5]\n",
      " [9 7 8]]\n"
     ]
    }
   ],
   "source": [
    "# tao 1 mang 2 chieu\n",
    "arr = np.array([[3, 1, 2],\n",
    "                [4, 6, 8],\n",
    "                [9, 7, 5]])\n",
    "\n",
    "sap_xep_theo_hang = np.sort(arr, axis=1) #tang dan\n",
    "print(sap_xep_theo_hang)\n",
    "\n",
    "sap_xep_theo_cot = np.sort(arr, axis=0) #tang dan\n",
    "print(sap_xep_theo_cot)"
   ]
  },
  {
   "cell_type": "code",
   "execution_count": 72,
   "id": "b9d72449-6e7c-4ce7-8bce-d30a9b679e8d",
   "metadata": {},
   "outputs": [
    {
     "name": "stdout",
     "output_type": "stream",
     "text": [
      "[[3 2 1]\n",
      " [8 6 4]\n",
      " [9 7 5]]\n",
      "[[9 7 8]\n",
      " [4 6 5]\n",
      " [3 1 2]]\n"
     ]
    }
   ],
   "source": [
    "# tao 1 mang 2 chieu\n",
    "arr = np.array([[3, 1, 2],\n",
    "                [4, 6, 8],\n",
    "                [9, 7, 5]])\n",
    "\n",
    "sap_xep_theo_hang = -np.sort(-arr, axis=1) # giam dan\n",
    "print(sap_xep_theo_hang)\n",
    "\n",
    "sap_xep_theo_cot = -np.sort(-arr, axis=0) # giam dan\n",
    "print(sap_xep_theo_cot)"
   ]
  },
  {
   "cell_type": "code",
   "execution_count": 74,
   "id": "4fde1fdd-ffe8-4173-b14f-0dd609191701",
   "metadata": {},
   "outputs": [
    {
     "name": "stdout",
     "output_type": "stream",
     "text": [
      "Số chiều:  2\n",
      "Kích thước:  6\n",
      "Hình dạng:  (2, 3)\n"
     ]
    }
   ],
   "source": [
    "# tao 1 mang 2D\n",
    "arr = np.array([[1, 2, 3], [4, 5, 6]])\n",
    "\n",
    "# su dung cac thuoc tinh de lay thong tin ve mang\n",
    "so_chieu = arr.ndim  #2 chieu\n",
    "kich_thuoc = arr.size  #tong so phan tu, 6\n",
    "hinh_dang = arr.shape  #so hang x so cot, (2, 3)\n",
    "\n",
    "print(\"Số chiều: \", so_chieu)\n",
    "print(\"Kích thước: \", kich_thuoc)\n",
    "print(\"Hình dạng: \", hinh_dang)"
   ]
  },
  {
   "cell_type": "code",
   "execution_count": 76,
   "id": "208181fb-ad91-477e-a84a-9b19fd012303",
   "metadata": {},
   "outputs": [
    {
     "name": "stdout",
     "output_type": "stream",
     "text": [
      "[1. 2. 3. 4. 5.]\n"
     ]
    }
   ],
   "source": [
    "# chuyen doi kieu du lieu \n",
    "arr = np.array([1, 2, 3, 4, 5])\n",
    "arr_float = arr.astype(float)\n",
    "\n",
    "print(arr_float)"
   ]
  },
  {
   "cell_type": "code",
   "execution_count": 80,
   "id": "0a5d6a5f-8a74-4892-941e-f8bc944e516c",
   "metadata": {},
   "outputs": [
    {
     "name": "stdout",
     "output_type": "stream",
     "text": [
      "[[1 2 3]\n",
      " [4 5 6]]\n",
      "[[1 2]\n",
      " [3 4]\n",
      " [5 6]]\n"
     ]
    }
   ],
   "source": [
    "# thay doi dinh dang cua mang\n",
    "arr = np.array([1, 2, 3, 4, 5, 6])\n",
    "\n",
    "reshaped_arr = arr.reshape(2,3)\n",
    "print(reshaped_arr)\n",
    "\n",
    "reshaped_arr = arr.reshape(3,2)\n",
    "print(reshaped_arr)"
   ]
  },
  {
   "cell_type": "code",
   "execution_count": 84,
   "id": "67f0b31c-c063-4aaf-97b9-6397efc488f0",
   "metadata": {},
   "outputs": [
    {
     "name": "stdout",
     "output_type": "stream",
     "text": [
      "[1 2 3 4 5 6]\n"
     ]
    }
   ],
   "source": [
    "#chuyen doi thanh mang 1 chieu\n",
    "reshaped_arr = reshaped_arr.flatten()\n",
    "print(reshaped_arr)"
   ]
  },
  {
   "cell_type": "code",
   "execution_count": 90,
   "id": "4291372e-43da-4196-a8d5-f23c6d8413a4",
   "metadata": {},
   "outputs": [
    {
     "name": "stdout",
     "output_type": "stream",
     "text": [
      "[2 3 4]\n",
      "[1 2 3 4]\n",
      "[4 5]\n"
     ]
    }
   ],
   "source": [
    "# cat lat mang \n",
    "arr = np.array([1, 2, 3, 4, 5])\n",
    "\n",
    "sub_arr = arr[1:4]\n",
    "print(sub_arr)\n",
    "\n",
    "sub_arr = arr[:-1]\n",
    "print(sub_arr)\n",
    "\n",
    "sub_arr = arr[-2:]\n",
    "print(sub_arr)"
   ]
  },
  {
   "cell_type": "code",
   "execution_count": 94,
   "id": "7b4d0ece-21be-4930-8737-e5c862d0dfc9",
   "metadata": {},
   "outputs": [
    {
     "name": "stdout",
     "output_type": "stream",
     "text": [
      "[[1 2 3]\n",
      " [4 5 6]]\n",
      "[[1 4]\n",
      " [2 5]\n",
      " [3 6]]\n"
     ]
    }
   ],
   "source": [
    "# Chuyen vi mang \n",
    "\n",
    "arr = np.array([[1, 2, 3], [4, 5, 6]])\n",
    "print(arr)\n",
    "\n",
    "transposed_arr = arr.T\n",
    "print(transposed_arr)"
   ]
  },
  {
   "cell_type": "code",
   "execution_count": 98,
   "id": "74086990-e274-45d5-8b8e-0d54eb018aa7",
   "metadata": {},
   "outputs": [
    {
     "name": "stdout",
     "output_type": "stream",
     "text": [
      "[1 2 3 4 5 6]\n"
     ]
    }
   ],
   "source": [
    "#noi mang\n",
    "arr1 = np.array([1, 2, 3])\n",
    "arr2 = np.array([4, 5, 6])\n",
    "arr = np.concatenate((arr1, arr2))\n",
    "\n",
    "print(arr)"
   ]
  },
  {
   "cell_type": "code",
   "execution_count": 100,
   "id": "de665e8b-b48b-4893-ab55-2d6fe9b6c41e",
   "metadata": {},
   "outputs": [
    {
     "name": "stdout",
     "output_type": "stream",
     "text": [
      "tong cua mang arr: 15\n",
      "gia tri trung binh cua mang arr: 3.0\n",
      "gia tri lon nhat trong mang arr: 5\n",
      "Gia tri nho nhat trong mang arr: 1\n",
      "Đo lech chuan cua mang arr: 1.4142135623730951\n",
      "phuong sai cua mang arr: 2.0\n",
      "tong tich chập cua arr1 và arr2: 32\n"
     ]
    }
   ],
   "source": [
    "arr = np.array([1, 2, 3, 4, 5])\n",
    "total = np.sum(arr)\n",
    "print(\"tong cua mang arr:\", total)\n",
    "\n",
    "average = np.mean(arr)\n",
    "print(\"gia tri trung binh cua mang arr:\", average)\n",
    "\n",
    "max_value = np.max(arr)\n",
    "min_value = np.min(arr)\n",
    "print(\"gia tri lon nhat trong mang arr:\", max_value)\n",
    "print(\"Gia tri nho nhat trong mang arr:\", min_value)\n",
    "\n",
    "std_deviation = np.std(arr)\n",
    "print(\"Đo lech chuan cua mang arr:\", std_deviation)\n",
    "\n",
    "variance = np.var(arr)\n",
    "print(\"phuong sai cua mang arr:\", variance)\n",
    "\n",
    "arr1 = np.array([1, 2, 3])\n",
    "arr2 = np.array([4, 5, 6])\n",
    "dot_product = np.dot(arr1, arr2)\n",
    "print(\"tong tich chập cua arr1 và arr2:\", dot_product)"
   ]
  }
 ],
 "metadata": {
  "kernelspec": {
   "display_name": "Python 3 (ipykernel)",
   "language": "python",
   "name": "python3"
  },
  "language_info": {
   "codemirror_mode": {
    "name": "ipython",
    "version": 3
   },
   "file_extension": ".py",
   "mimetype": "text/x-python",
   "name": "python",
   "nbconvert_exporter": "python",
   "pygments_lexer": "ipython3",
   "version": "3.12.4"
  }
 },
 "nbformat": 4,
 "nbformat_minor": 5
}
