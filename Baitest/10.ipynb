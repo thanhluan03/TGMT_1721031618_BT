{
 "cells": [
  {
   "cell_type": "code",
   "execution_count": 12,
   "id": "b4818810-264c-4d95-8728-c1b38fabc404",
   "metadata": {},
   "outputs": [
    {
     "name": "stdout",
     "output_type": "stream",
     "text": [
      "[(535.3274752770163, 677.8748361730012), (51.59102823781723, 613.535505778625), (73.03747170260931, 332.34880257357315), (99.24979149291079, 129.79905873942573), (34.91046109853454, 289.455915643989)]\n"
     ]
    },
    {
     "data": {
      "text/plain": [
       "<function matplotlib.pyplot.show(*, block=None)>"
      ]
     },
     "execution_count": 12,
     "metadata": {},
     "output_type": "execute_result"
    }
   ],
   "source": [
    "#Import thu vien\n",
    "from PIL import Image\n",
    "import matplotlib.pyplot as plt\n",
    "\n",
    "#duong dan anh\n",
    "my_path = 'from PIL import Image\n",
    "import numpy as np\n",
    "import matplotlib.pyplot as plt\n",
    "from scipy import ndimage\n",
    "\n",
    "# Đọc ảnh\n",
    "image_path = 'C:/Users/tungi/OneDrive/Documents/src_cv/img/01/1.jpg'\n",
    "image = Image.open(image_path)\n",
    "\n",
    "# Ảnh xám\n",
    "gray_image = image.convert('L')\n",
    "\n",
    "# Chuyển ảnh xám về mảng\n",
    "image_a = np.array(gray_image)\n",
    "\n",
    "# Làm mờ ảnh xám với bộ lọc Gaussian\n",
    "blurred_image_a = ndimage.gaussian_filter(image_a, sigma=1, mode=\"constant\")\n",
    "blurred_image_b = ndimage.gaussian_filter(image_a, sigma=3, mode=\"constant\")\n",
    "blurred_image_c = ndimage.gaussian_filter(image_a, sigma=5, mode=\"constant\")\n",
    "\n",
    "# Hiển thị ảnh\n",
    "fig, axs = plt.subplots(2,2, figsize=(10, 8))\n",
    "\n",
    "plt.subplot(2,2,1)\n",
    "plt.imshow(gray_image, cmap='gray')\n",
    "plt.title('Ảnh xám gốc')\n",
    "\n",
    "plt.subplot(2,2,2)\n",
    "plt.imshow(blurred_image_a, cmap='gray')\n",
    "plt.title('sigma=1')\n",
    "\n",
    "plt.subplot(2,2,3)\n",
    "plt.imshow(blurred_image_b, cmap='gray')\n",
    "plt.title('sigma=3')\n",
    "\n",
    "plt.subplot(2,2,4)\n",
    "plt.imshow(blurred_image_c, cmap='gray')\n",
    "plt.title('sigma=5')'\n",
    "\n",
    "#doc anh\n",
    "im = Image.open(my_path)\n",
    "\n",
    "# chuyen doi backend\n",
    "plt.switch_backend('tkagg')\n",
    "\n",
    "#hien thi anh \n",
    "plt.imshow(im)\n",
    "plt.title('Click on the image to select points')\n",
    "\n",
    "#su dung ham ginput de chon diem tren anh\n",
    "points = plt.ginput(5)\n",
    "\n",
    "print(points)\n",
    "\n",
    "#hien thi\n",
    "plt.show"
   ]
  },
  {
   "cell_type": "code",
   "execution_count": 14,
   "id": "62c8c7af-7b32-48be-823f-12bd9a059853",
   "metadata": {},
   "outputs": [],
   "source": [
    "#ve lai cac diem da chon bang dau * mau do\n",
    "\n",
    "plt.close()\n",
    "\n",
    "# ve lai\n",
    "# Vẽ lại\n",
    "plt.imshow(im)\n",
    "for point in points:\n",
    "    x, y = point\n",
    "    plt.plot(x,y, 'r*')\n",
    "\n",
    "plt.show()"
   ]
  }
 ],
 "metadata": {
  "kernelspec": {
   "display_name": "Python 3 (ipykernel)",
   "language": "python",
   "name": "python3"
  },
  "language_info": {
   "codemirror_mode": {
    "name": "ipython",
    "version": 3
   },
   "file_extension": ".py",
   "mimetype": "text/x-python",
   "name": "python",
   "nbconvert_exporter": "python",
   "pygments_lexer": "ipython3",
   "version": "3.12.4"
  }
 },
 "nbformat": 4,
 "nbformat_minor": 5
}
